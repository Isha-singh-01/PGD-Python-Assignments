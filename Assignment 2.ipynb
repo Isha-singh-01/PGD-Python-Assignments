{
 "cells": [
  {
   "cell_type": "markdown",
   "id": "179b01f6",
   "metadata": {},
   "source": [
    "# Name: Isha Singh Roll no. 09\n",
    "# Numpy Functions\n",
    "\n",
    "*Introduction*\n",
    "\n",
    "Numpy stands for numerical python and is a library in python that adds the functionality of large multi-dimensional arrays and matrices. It works as a building block for all the libraries in pydata ecosystem. Numpy is one of the most useful tools for a data scientist that uses python. It can handle large-size data efficiently. One of the biggest reasons to use NumPy is its arrays and multiple scientific functions to work with arrays.\n",
    "\n",
    "List of functions explained:\n",
    "\n",
    "function 1 = np.linspace <br>\n",
    "function 2 = np.repeat <br>\n",
    "function 3 = np.einsum <br>\n",
    "function 4 = np.percentile <br>\n",
    "function 5 = np.random.randn"
   ]
  },
  {
   "cell_type": "code",
   "execution_count": 2,
   "id": "0b6f0c6e",
   "metadata": {},
   "outputs": [],
   "source": [
    "import numpy as np\n",
    "import matplotlib.pyplot as plt"
   ]
  },
  {
   "cell_type": "markdown",
   "id": "49fd286c",
   "metadata": {},
   "source": [
    "# Function 1 — np.linspace\n",
    "numpy.linspace is a function that returns evenly spaced numbers over a specified interval.\n",
    "\n",
    "Syntax: np.linspace(start, stop, num= 50, endpoint = True, retstep = False, dtype = None, axis = 0)\n",
    "\n",
    "The np.linspace function returns num evenly spaced intervals calculated over the interval start and stop. By default, 50 samples are generated. The endpoint value determines whether the stop element is excluded or included. Only the start and stop values are compulsory and the rest are optional."
   ]
  },
  {
   "cell_type": "code",
   "execution_count": 3,
   "id": "4cd1ed68",
   "metadata": {},
   "outputs": [
    {
     "data": {
      "text/plain": [
       "array([ 2.        ,  2.36734694,  2.73469388,  3.10204082,  3.46938776,\n",
       "        3.83673469,  4.20408163,  4.57142857,  4.93877551,  5.30612245,\n",
       "        5.67346939,  6.04081633,  6.40816327,  6.7755102 ,  7.14285714,\n",
       "        7.51020408,  7.87755102,  8.24489796,  8.6122449 ,  8.97959184,\n",
       "        9.34693878,  9.71428571, 10.08163265, 10.44897959, 10.81632653,\n",
       "       11.18367347, 11.55102041, 11.91836735, 12.28571429, 12.65306122,\n",
       "       13.02040816, 13.3877551 , 13.75510204, 14.12244898, 14.48979592,\n",
       "       14.85714286, 15.2244898 , 15.59183673, 15.95918367, 16.32653061,\n",
       "       16.69387755, 17.06122449, 17.42857143, 17.79591837, 18.16326531,\n",
       "       18.53061224, 18.89795918, 19.26530612, 19.63265306, 20.        ])"
      ]
     },
     "execution_count": 3,
     "metadata": {},
     "output_type": "execute_result"
    }
   ],
   "source": [
    "#Example 1\n",
    "np.linspace(2, 20)"
   ]
  },
  {
   "cell_type": "code",
   "execution_count": 4,
   "id": "5d864f1f",
   "metadata": {},
   "outputs": [
    {
     "data": {
      "text/plain": [
       "(array([10. , 19.1, 28.2, 37.3, 46.4, 55.5, 64.6, 73.7, 82.8, 91.9]), 9.1)"
      ]
     },
     "execution_count": 4,
     "metadata": {},
     "output_type": "execute_result"
    }
   ],
   "source": [
    "#Example 2\n",
    "np.linspace(10, 101, 10, False, True, float)"
   ]
  },
  {
   "cell_type": "markdown",
   "id": "6a360b4f",
   "metadata": {},
   "source": [
    "Here, the function returned 10 evenly spaced elements over the intervals 10 and 101. It returned 10 this time because the num value is 10. It also excluded 101 this time because the endpoint value is False. Similarly, since the retstep value is True, we got (samples, step) where step is the spacing between the elements which in this case is 9.1. And finally, the dtype value is float as defined in the function."
   ]
  },
  {
   "cell_type": "code",
   "execution_count": 6,
   "id": "40c4ad64",
   "metadata": {},
   "outputs": [
    {
     "data": {
      "text/plain": [
       "(-0.2, 1.8)"
      ]
     },
     "execution_count": 6,
     "metadata": {},
     "output_type": "execute_result"
    },
    {
     "data": {
      "image/png": "[encoded data removed]",
      "text/plain": [
       "<Figure size 432x288 with 1 Axes>"
      ]
     },
     "metadata": {
      "needs_background": "light"
     },
     "output_type": "display_data"
    }
   ],
   "source": [
    "#Example 3\n",
    "# Graphical Representation of numpy.linspace()\n",
    "# Start = 0\n",
    "# End = 2\n",
    "# Samples to generate = 10\n",
    "x1 = np.linspace(0, 2, 10, endpoint = False)\n",
    "y1 = np.ones(10)\n",
    " \n",
    "plt.plot(x1, y1, '*')\n",
    "plt.xlim(-0.2, 1.8)"
   ]
  },
  {
   "cell_type": "markdown",
   "id": "19143777",
   "metadata": {},
   "source": [
    "# Function 2 — np.repeat() \n",
    "\n",
    "This function repeats elements of the array – arr. \n",
    "\n",
    "Syntax : \n",
    "numpy.repeat(arr, repetitions, axis = None) <br>\n",
    "\n",
    "Parameters : \n",
    "array       : Input array. \n",
    "repetitions : No. of repetitions of each array elements along the given axis.\n",
    "axis        : Axis along which we want to repeat values. By default, it returns a flat output array.<br>\n",
    "\n",
    "Return : An array with repetitions of array - arr elements as per repetitions, number of times \n",
    "we want to repeat arr"
   ]
  },
  {
   "cell_type": "code",
   "execution_count": 7,
   "id": "d8000434",
   "metadata": {},
   "outputs": [
    {
     "data": {
      "text/plain": [
       "array([2, 2, 2, 2, 2])"
      ]
     },
     "execution_count": 7,
     "metadata": {},
     "output_type": "execute_result"
    }
   ],
   "source": [
    "# Example 1:\n",
    "\n",
    "np.repeat(2, 5)"
   ]
  },
  {
   "cell_type": "code",
   "execution_count": 11,
   "id": "f32b3742",
   "metadata": {},
   "outputs": [
    {
     "name": "stdout",
     "output_type": "stream",
     "text": [
      "Arr: [[1 4]\n",
      " [5 7]]\n",
      "Output 1: [1 1 1 4 4 4 5 5 5 7 7 7]\n",
      "Output 2: [[1 1 1 4 4 4]\n",
      " [5 5 5 7 7 7]]\n"
     ]
    }
   ],
   "source": [
    "# Example 2:\n",
    "\n",
    "arr = np.array([[1,4], [5,7]])\n",
    "print (\"Arr:\" ,arr)\n",
    "output1 = np.repeat(arr, 3)\n",
    "print(\"Output 1:\",output1)\n",
    "output2 = np.repeat(arr, 3, axis=1)\n",
    "print(\"Output 2:\",output2)"
   ]
  },
  {
   "cell_type": "code",
   "execution_count": 12,
   "id": "5f17d8dc",
   "metadata": {},
   "outputs": [
    {
     "data": {
      "text/html": [
       "<div>\n",
       "<style scoped>\n",
       "    .dataframe tbody tr th:only-of-type {\n",
       "        vertical-align: middle;\n",
       "    }\n",
       "\n",
       "    .dataframe tbody tr th {\n",
       "        vertical-align: top;\n",
       "    }\n",
       "\n",
       "    .dataframe thead th {\n",
       "        text-align: right;\n",
       "    }\n",
       "</style>\n",
       "<table border=\"1\" class=\"dataframe\">\n",
       "  <thead>\n",
       "    <tr style=\"text-align: right;\">\n",
       "      <th></th>\n",
       "      <th>Product</th>\n",
       "      <th>ContainerSales</th>\n",
       "    </tr>\n",
       "  </thead>\n",
       "  <tbody>\n",
       "    <tr>\n",
       "      <th>0</th>\n",
       "      <td>Mango</td>\n",
       "      <td>40</td>\n",
       "    </tr>\n",
       "    <tr>\n",
       "      <th>1</th>\n",
       "      <td>Apple</td>\n",
       "      <td>90</td>\n",
       "    </tr>\n",
       "    <tr>\n",
       "      <th>2</th>\n",
       "      <td>Banana</td>\n",
       "      <td>130</td>\n",
       "    </tr>\n",
       "  </tbody>\n",
       "</table>\n",
       "</div>"
      ],
      "text/plain": [
       "  Product  ContainerSales\n",
       "0   Mango              40\n",
       "1   Apple              90\n",
       "2  Banana             130"
      ]
     },
     "execution_count": 12,
     "metadata": {},
     "output_type": "execute_result"
    }
   ],
   "source": [
    "# A more practical case\n",
    "\n",
    "import pandas as pd\n",
    "fruits = pd.DataFrame([\n",
    "    ['Mango',40],\n",
    "    ['Apple',90],\n",
    "    ['Banana',130]\n",
    "],columns=['Product','ContainerSales'])\n",
    "fruits"
   ]
  },
  {
   "cell_type": "code",
   "execution_count": 13,
   "id": "5ddba9e6",
   "metadata": {},
   "outputs": [
    {
     "data": {
      "text/html": [
       "<div>\n",
       "<style scoped>\n",
       "    .dataframe tbody tr th:only-of-type {\n",
       "        vertical-align: middle;\n",
       "    }\n",
       "\n",
       "    .dataframe tbody tr th {\n",
       "        vertical-align: top;\n",
       "    }\n",
       "\n",
       "    .dataframe thead th {\n",
       "        text-align: right;\n",
       "    }\n",
       "</style>\n",
       "<table border=\"1\" class=\"dataframe\">\n",
       "  <thead>\n",
       "    <tr style=\"text-align: right;\">\n",
       "      <th></th>\n",
       "      <th>Product</th>\n",
       "      <th>ContainerSales</th>\n",
       "      <th>year</th>\n",
       "    </tr>\n",
       "  </thead>\n",
       "  <tbody>\n",
       "    <tr>\n",
       "      <th>0</th>\n",
       "      <td>Mango</td>\n",
       "      <td>40</td>\n",
       "      <td>2020</td>\n",
       "    </tr>\n",
       "    <tr>\n",
       "      <th>1</th>\n",
       "      <td>Apple</td>\n",
       "      <td>90</td>\n",
       "      <td>2020</td>\n",
       "    </tr>\n",
       "    <tr>\n",
       "      <th>2</th>\n",
       "      <td>Banana</td>\n",
       "      <td>130</td>\n",
       "      <td>2020</td>\n",
       "    </tr>\n",
       "  </tbody>\n",
       "</table>\n",
       "</div>"
      ],
      "text/plain": [
       "  Product  ContainerSales  year\n",
       "0   Mango              40  2020\n",
       "1   Apple              90  2020\n",
       "2  Banana             130  2020"
      ]
     },
     "execution_count": 13,
     "metadata": {},
     "output_type": "execute_result"
    }
   ],
   "source": [
    "#In this example, year column is missing. Adding year column with the help of repeat function.\n",
    "\n",
    "fruits['year'] = np.repeat(2020,fruits.shape[0])\n",
    "'''\n",
    "Above code will repeat the year 2020 n times, where n is the length of data.\n",
    "'''\n",
    "fruits"
   ]
  },
  {
   "cell_type": "markdown",
   "id": "384fba23",
   "metadata": {},
   "source": [
    "# Function 3 : np.einsum()\n",
    "\n",
    "This function is used to compute many multi-dimensional and linear algebraic operations on arrays. We will pass two arrays as a parameter and it will return the Einstein’s summation convention."
   ]
  },
  {
   "cell_type": "code",
   "execution_count": 15,
   "id": "3c07db07",
   "metadata": {},
   "outputs": [
    {
     "data": {
      "text/plain": [
       "array([1, 5, 9])"
      ]
     },
     "execution_count": 15,
     "metadata": {},
     "output_type": "execute_result"
    }
   ],
   "source": [
    "a = np.arange(1,10).reshape(3,3)\n",
    "b = np.arange(21,30).reshape(3,3)\n",
    "\n",
    "#To extract diagnols\n",
    "np.einsum('ii->i',a)"
   ]
  },
  {
   "cell_type": "code",
   "execution_count": 16,
   "id": "7187548c",
   "metadata": {},
   "outputs": [
    {
     "data": {
      "text/plain": [
       "array([[1, 4, 7],\n",
       "       [2, 5, 8],\n",
       "       [3, 6, 9]])"
      ]
     },
     "execution_count": 16,
     "metadata": {},
     "output_type": "execute_result"
    }
   ],
   "source": [
    "# Transpose\n",
    "np.einsum('ji',a)"
   ]
  },
  {
   "cell_type": "code",
   "execution_count": 17,
   "id": "1f418175",
   "metadata": {},
   "outputs": [
    {
     "data": {
      "text/plain": [
       "array([[150, 156, 162],\n",
       "       [366, 381, 396],\n",
       "       [582, 606, 630]])"
      ]
     },
     "execution_count": 17,
     "metadata": {},
     "output_type": "execute_result"
    }
   ],
   "source": [
    "#Matrix Multiplication\n",
    "np.einsum('ij,jk',a,b)"
   ]
  },
  {
   "cell_type": "markdown",
   "id": "0d3fd91c",
   "metadata": {},
   "source": [
    "# Function 4 : np.percentile()\n",
    "\n",
    "numpy.percentile() function used to compute the nth percentile of the given data (array elements) along the specified axis. \n",
    " \n",
    "\n",
    "Syntax : numpy.percentile(arr, n, axis=None, out=None) \n",
    "\n",
    "\n",
    "Parameters : \n",
    "arr :input array. \n",
    "n : percentile value. \n",
    "axis : axis along which we want to calculate the percentile value. Otherwise, it will consider arr to be flattened(works on all the axis). axis = 0 means along the column and axis = 1 means working along the row. \n",
    "out :Different array in which we want to place the result. The array must have same dimensions as expected output. \n",
    "\n",
    "\n",
    "Return :nth Percentile of the array (a scalar value if axis is none)or array with percentile values along specified axis."
   ]
  },
  {
   "cell_type": "code",
   "execution_count": 18,
   "id": "7e9cfdc3",
   "metadata": {},
   "outputs": [
    {
     "name": "stdout",
     "output_type": "stream",
     "text": [
      "arr :  [20, 2, 7, 1, 34]\n",
      "50th percentile of arr :  7.0\n",
      "25th percentile of arr :  2.0\n",
      "75th percentile of arr :  20.0\n"
     ]
    }
   ],
   "source": [
    "# 1D array\n",
    "arr = [20, 2, 7, 1, 34]\n",
    "print(\"arr : \", arr)\n",
    "print(\"50th percentile of arr : \",\n",
    "       np.percentile(arr, 50))\n",
    "print(\"25th percentile of arr : \",\n",
    "       np.percentile(arr, 25))\n",
    "print(\"75th percentile of arr : \",\n",
    "       np.percentile(arr, 75))"
   ]
  },
  {
   "cell_type": "code",
   "execution_count": 19,
   "id": "bdbe2d84",
   "metadata": {},
   "outputs": [
    {
     "name": "stdout",
     "output_type": "stream",
     "text": [
      "\n",
      "arr : \n",
      " [[14, 17, 12, 33, 44], [15, 6, 27, 8, 19], [23, 2, 54, 1, 4]]\n",
      "\n",
      "50th Percentile of arr, axis = None :  15.0\n",
      "0th Percentile of arr, axis = None :  1.0\n",
      "\n",
      "50th Percentile of arr, axis = 0 :  [15.  6. 27.  8. 19.]\n",
      "0th Percentile of arr, axis = 0 :  [14.  2. 12.  1.  4.]\n"
     ]
    }
   ],
   "source": [
    "# 2D array\n",
    "arr = [[14, 17, 12, 33, 44], \n",
    "       [15, 6, 27, 8, 19],\n",
    "       [23, 2, 54, 1, 4,]]\n",
    "print(\"\\narr : \\n\", arr)\n",
    "    \n",
    "# Percentile of the flattened array\n",
    "print(\"\\n50th Percentile of arr, axis = None : \",\n",
    "      np.percentile(arr, 50))\n",
    "print(\"0th Percentile of arr, axis = None : \",\n",
    "      np.percentile(arr, 0))\n",
    "    \n",
    "# Percentile along the axis = 0\n",
    "print(\"\\n50th Percentile of arr, axis = 0 : \",\n",
    "      np.percentile(arr, 50, axis =0))\n",
    "print(\"0th Percentile of arr, axis = 0 : \",\n",
    "      np.percentile(arr, 0, axis =0))"
   ]
  },
  {
   "cell_type": "code",
   "execution_count": 20,
   "id": "14ba4edd",
   "metadata": {},
   "outputs": [
    {
     "data": {
      "text/plain": [
       "5.0"
      ]
     },
     "execution_count": 20,
     "metadata": {},
     "output_type": "execute_result"
    }
   ],
   "source": [
    "a = np.array([[2, 4, 6], [4, 8, 12]])\n",
    "np.percentile(a, 50)"
   ]
  },
  {
   "cell_type": "markdown",
   "id": "d79c469b",
   "metadata": {},
   "source": [
    "# Function 5: np.random.randn()\n",
    "\n",
    "The numpy.random.randn() function creates an array of specified shape and fills it with random values as per standard normal distribution. \n",
    "If positive arguments are provided, randn generates an array of shape (d0, d1, …, dn), filled with random floats sampled from a univariate “normal” (Gaussian) distribution of mean 0 and variance 1 (if any of the d_i are floats, they are first converted to integers by truncation). A single float randomly sampled from the distribution is returned if no argument is provided."
   ]
  },
  {
   "cell_type": "code",
   "execution_count": 21,
   "id": "fec67acb",
   "metadata": {},
   "outputs": [
    {
     "name": "stdout",
     "output_type": "stream",
     "text": [
      "1D Array filled with random values : \n",
      " [ 1.32011227 -1.61644701 -1.01209815 -1.07687759  0.32414764]\n"
     ]
    }
   ],
   "source": [
    "# 1D Array\n",
    "array = np.random.randn(5)\n",
    "print(\"1D Array filled with random values : \\n\", array);"
   ]
  },
  {
   "cell_type": "code",
   "execution_count": 22,
   "id": "5b5bb89e",
   "metadata": {},
   "outputs": [
    {
     "name": "stdout",
     "output_type": "stream",
     "text": [
      "2D Array filled with random values : \n",
      " [[ 0.88374634 -1.39846134 -0.86718697 -0.15177303]\n",
      " [-1.38756581  0.4816775   0.84702603 -0.7056558 ]\n",
      " [ 0.25797114 -1.42048192 -1.004187    2.00649579]]\n"
     ]
    }
   ],
   "source": [
    "# 2D Array  \n",
    "array = np.random.randn(3, 4)\n",
    "print(\"2D Array filled with random values : \\n\", array);"
   ]
  },
  {
   "cell_type": "code",
   "execution_count": 26,
   "id": "9062fb19",
   "metadata": {},
   "outputs": [
    {
     "name": "stdout",
     "output_type": "stream",
     "text": [
      "-0.03855114477747472\n",
      "1.0017626065405791\n"
     ]
    }
   ],
   "source": [
    "#Visualization of numpy.random.randn\n",
    "\n",
    "a = np.random.randn(1000)\n",
    "print(a.mean())\n",
    "print(a.var())"
   ]
  },
  {
   "cell_type": "code",
   "execution_count": 25,
   "id": "65a7fe8e",
   "metadata": {},
   "outputs": [
    {
     "data": {
      "text/plain": [
       "<AxesSubplot:ylabel='Density'>"
      ]
     },
     "execution_count": 25,
     "metadata": {},
     "output_type": "execute_result"
    },
    {
     "data": {
      "image/png": "[encoded data removed]",
      "text/plain": [
       "<Figure size 432x288 with 1 Axes>"
      ]
     },
     "metadata": {
      "needs_background": "light"
     },
     "output_type": "display_data"
    }
   ],
   "source": [
    "pd.Series(a).plot(kind='kde')"
   ]
  },
  {
   "cell_type": "markdown",
   "id": "5e4429e9",
   "metadata": {},
   "source": [
    "NumPy proved to be a very flexible and efficient scientific computing library. It serves as a base for many Python libraries such as Pandas.\n",
    "\n",
    "# Thank you!!"
   ]
  }
 ],
 "metadata": {
  "kernelspec": {
   "display_name": "Python 3",
   "language": "python",
   "name": "python3"
  },
  "language_info": {
   "codemirror_mode": {
    "name": "ipython",
    "version": 3
   },
   "file_extension": ".py",
   "mimetype": "text/x-python",
   "name": "python",
   "nbconvert_exporter": "python",
   "pygments_lexer": "ipython3",
   "version": "3.8.8"
  }
 },
 "nbformat": 4,
 "nbformat_minor": 5
}
